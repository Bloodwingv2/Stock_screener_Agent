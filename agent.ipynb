{
 "cells": [
  {
   "cell_type": "code",
   "execution_count": 8,
   "id": "3cdc18e9",
   "metadata": {},
   "outputs": [],
   "source": [
    "from typing import Annotated, TypedDict\n",
    "from langgraph.graph import START, END, StateGraph\n",
    "from langgraph.graph.message import add_messages\n",
    "from langchain_core.messages import SystemMessage\n",
    "from langgraph.checkpoint.memory import InMemorySaver\n",
    "from langchain.chat_models import init_chat_model\n",
    "from langgraph.prebuilt import ToolNode\n",
    "from stock_screener_agent.tools import simple_screener\n",
    "\n",
    "import asyncio\n",
    "\n",
    "llm_ollama = init_chat_model(model=\"ollama:llama3.2:latest\") # initialize local LLM\n",
    "\n",
    "# Create state with reducer functions\n",
    "class StockState(TypedDict):\n",
    "    messages: Annotated[list,add_messages]\n",
    "    \n",
    "# Define the Chatbot invoker function\n",
    "def chatbot(state:StockState) -> StockState:\n",
    "    \"\"\"Invoke The llm and return responses\"\"\"\n",
    "    SystemMessage = {\n",
    "        \"role\": \"system\",\n",
    "        \"content\": \"Your name is StockScreener you have a tool called as simple_screener that can be used to screen stocks based on the criteria that user provides. If the user asks you to screen stocks, use the tool. If the user asks you anything else, respond appropiately with your own knowledge base\",\n",
    "        }\n",
    "    message_with_system = [SystemMessage] + state[\"messages\"]\n",
    "    response = llm_ollama_tools.invoke(message_with_system)\n",
    "    return {\"messages\": [response]}\n",
    "\n",
    "# Define Conditional Edge Function\n",
    "def router(state:StockState) -> str:\n",
    "    \"\"\"Route the messages to the appropriate tool or LLM\"\"\"\n",
    "    last_message = state[\"messages\"][-1]\n",
    "    if hasattr(last_message, 'tool_calls') and last_message.tool_calls:\n",
    "        return \"Continue\"\n",
    "    else:\n",
    "        return \"END\"\n",
    "        \n",
    "\n",
    "# Create and list the tools\n",
    "tools_new = [simple_screener]\n",
    "# Create a ToolNode for LangGraph\n",
    "tool_node = ToolNode(tools_new)\n",
    "# Bind tools directly to the LLM (not the ToolNode)\n",
    "llm_ollama_tools = llm_ollama.bind_tools(tools_new)\n",
    "\n",
    "\n",
    "# Create the state graph\n",
    "graph_builder = StateGraph(StockState)\n",
    "graph_builder.add_node(\"Chatbot\", chatbot)\n",
    "graph_builder.add_node(\"Router\", router)\n",
    "graph_builder.add_node(\"ToolNode\", tool_node)\n",
    "\n",
    "graph_builder.add_edge(START, \"Chatbot\")\n",
    "graph_builder.add_edge(\"Chatbot\", \"Router\")\n",
    "graph_builder.add_conditional_edges(\n",
    "    \"Router\",\n",
    "    router,\n",
    "    {\n",
    "        \"Continue\": \"ToolNode\",\n",
    "        \"END\": END,\n",
    "    },\n",
    ")\n",
    "graph_builder.add_edge(\"ToolNode\",\"Chatbot\")\n",
    "\n",
    "# Add Memory and Compile Graph\n",
    "memory = InMemorySaver()\n",
    "graph = graph_builder.compile(checkpointer=memory)"
   ]
  },
  {
   "cell_type": "code",
   "execution_count": 9,
   "id": "4e5c4af3",
   "metadata": {},
   "outputs": [
    {
     "data": {
      "image/png": "[encoded data removed]",
      "text/plain": [
       "<IPython.core.display.Image object>"
      ]
     },
     "metadata": {},
     "output_type": "display_data"
    }
   ],
   "source": [
    "# Generate Langgraph Flowchart\n",
    "\n",
    "from IPython.display import display, Image\n",
    "display(Image(graph.get_graph().draw_mermaid_png()))"
   ]
  }
 ],
 "metadata": {
  "kernelspec": {
   "display_name": "Stock_screener_Agent",
   "language": "python",
   "name": "python3"
  },
  "language_info": {
   "codemirror_mode": {
    "name": "ipython",
    "version": 3
   },
   "file_extension": ".py",
   "mimetype": "text/x-python",
   "name": "python",
   "nbconvert_exporter": "python",
   "pygments_lexer": "ipython3",
   "version": "3.13.3"
  }
 },
 "nbformat": 4,
 "nbformat_minor": 5
}
